{
 "cells": [
  {
   "cell_type": "code",
   "execution_count": 14,
   "metadata": {},
   "outputs": [],
   "source": [
    "import numpy as np\n",
    "import pandas as pd\n",
    "import math"
   ]
  },
  {
   "cell_type": "code",
   "execution_count": null,
   "metadata": {},
   "outputs": [],
   "source": [
    "# Load the Iris dataset (update the path to your local dataset)\n",
    "data = pd.read_csv(r'C:\\Users\\Dell\\Desktop\\Machine Learning\\Dataset\\Iris.csv')\n",
    "# Remove the 'Species' column since we are only clustering numerical features\n",
    "data.__delitem__('Species')"
   ]
  },
  {
   "cell_type": "code",
   "execution_count": null,
   "metadata": {},
   "outputs": [],
   "source": [
    "# Function to compute Euclidean distance between two points\n",
    "def distance(p1, p2):\n",
    "    return math.dist(p1, p2)"
   ]
  },
  {
   "cell_type": "code",
   "execution_count": null,
   "metadata": {},
   "outputs": [],
   "source": [
    "# Function to assign each data point to the closest centroid\n",
    "def update_cluster(cl1, cl2, cl3, centroid1, centroid2, centroid3):\n",
    "    # Loop over each data point in the dataset\n",
    "    for i in range(len(data)):\n",
    "        # Extract features: SepalLength and SepalWidth\n",
    "        point = (data['SepalLengthCm'][i], data['SepalWidthCm'][i])\n",
    "       \n",
    "        # Compute distance from the current point to each centroid\n",
    "        d1 = distance(centroid1, point)\n",
    "        d2 = distance(centroid2, point)\n",
    "        d3 = distance(centroid3, point)\n",
    "        \n",
    "        # Assign point to the nearest cluster based on distance\n",
    "        if d1 < d2 and d1 < d3:\n",
    "            cl1.append(point)\n",
    "        elif d2 < d1 and d2 < d3:\n",
    "            cl2.append(point)\n",
    "        else:\n",
    "            cl3.append(point)"
   ]
  },
  {
   "cell_type": "code",
   "execution_count": null,
   "metadata": {},
   "outputs": [],
   "source": [
    "# Function to update centroids as the mean of the points in each cluster\n",
    "def update_centroids(cl1, cl2, cl3):\n",
    "    # Compute the new centroid for each cluster; if a cluster is empty, use (0,0)\n",
    "    centroid1 = np.mean(cl1, axis=0) if cl1 else (0, 0)\n",
    "    centroid2 = np.mean(cl2, axis=0) if cl2 else (0, 0)\n",
    "    centroid3 = np.mean(cl3, axis=0) if cl3 else (0, 0)\n",
    "    \n",
    "    print(\"Updated centroids:\", centroid1, centroid2, centroid3)\n",
    "    return centroid1, centroid2, centroid3"
   ]
  },
  {
   "cell_type": "code",
   "execution_count": null,
   "metadata": {},
   "outputs": [],
   "source": [
    "def main():\n",
    "    # Initialize centroids using the first three data points from the dataset\n",
    "    centroid1 = (data['SepalLengthCm'][0], data['SepalWidthCm'][0])\n",
    "    centroid2 = (data['SepalLengthCm'][1], data['SepalWidthCm'][1])\n",
    "    centroid3 = (data['SepalLengthCm'][2], data['SepalWidthCm'][2])\n",
    "    \n",
    "    max_iterations = 100  # Maximum number of iterations for the k-means algorithm\n",
    "    tolerance = 1e-4      # Convergence tolerance threshold\n",
    "    iteration = 0\n",
    "\n",
    "    # Run the k-means clustering until convergence or maximum iterations\n",
    "    while iteration < max_iterations:\n",
    "        # Initialize empty clusters for this iteration\n",
    "        cl1, cl2, cl3 = [], [], []\n",
    "       \n",
    "        # Assign data points to the closest centroids\n",
    "        update_cluster(cl1, cl2, cl3, centroid1, centroid2, centroid3)\n",
    "        \n",
    "        # Update centroids based on the current cluster assignments\n",
    "        newcen1, newcen2, newcen3 = update_centroids(cl1, cl2, cl3)\n",
    "        \n",
    "        print(f\"Iteration {iteration}:\")\n",
    "        print(f\"  Centroid 1: {newcen1}\")\n",
    "        print(f\"  Centroid 2: {newcen2}\")\n",
    "        print(f\"  Centroid 3: {newcen3}\\n\")\n",
    "        \n",
    "        # Check for convergence: if centroids do not change significantly, stop iterations\n",
    "        if (np.allclose(newcen1, centroid1, atol=tolerance) and\n",
    "            np.allclose(newcen2, centroid2, atol=tolerance) and\n",
    "            np.allclose(newcen3, centroid3, atol=tolerance)):\n",
    "            print(\"Centroids converged.\")\n",
    "            break\n",
    "        \n",
    "        # Update centroids for the next iteration\n",
    "        centroid1, centroid2, centroid3 = newcen1, newcen2, newcen3\n",
    "        iteration += 1\n",
    "\n",
    "    # Print the final centroids after convergence or upon reaching maximum iterations\n",
    "    print(\"Final centroids:\")\n",
    "    print(\"Centroid 1:\", centroid1)\n",
    "    print(\"Centroid 2:\", centroid2)\n",
    "    print(\"Centroid 3:\", centroid3)\n",
    "\n",
    "# Execute the main function if the script is run directly\n",
    "if __name__ == \"__main__\":\n",
    "    main()"
   ]
  },
  {
   "cell_type": "code",
   "execution_count": 21,
   "metadata": {},
   "outputs": [
    {
     "name": "stdout",
     "output_type": "stream",
     "text": [
      "Updated centroids: [6.19310345 3.25632184] [5.56  2.662] [4.59230769 3.20769231]\n",
      "Iteration 0:\n",
      "  Centroid 1: [6.19310345 3.25632184]\n",
      "  Centroid 2: [5.56  2.662]\n",
      "  Centroid 3: [4.59230769 3.20769231]\n",
      "\n",
      "Updated centroids: [6.51142857 3.14428571] [5.64   2.6325] [4.8775 3.3175]\n",
      "Iteration 1:\n",
      "  Centroid 1: [6.51142857 3.14428571]\n",
      "  Centroid 2: [5.64   2.6325]\n",
      "  Centroid 3: [4.8775 3.3175]\n",
      "\n",
      "Updated centroids: [6.6877193  3.07368421] [5.7        2.63636364] [4.98979592 3.40612245]\n",
      "Iteration 2:\n",
      "  Centroid 1: [6.6877193  3.07368421]\n",
      "  Centroid 2: [5.7        2.63636364]\n",
      "  Centroid 3: [4.98979592 3.40612245]\n",
      "\n",
      "Updated centroids: [6.76470588 3.06470588] [5.73877551 2.67142857] [5.006 3.418]\n",
      "Iteration 3:\n",
      "  Centroid 1: [6.76470588 3.06470588]\n",
      "  Centroid 2: [5.73877551 2.67142857]\n",
      "  Centroid 3: [5.006 3.418]\n",
      "\n",
      "Updated centroids: [6.80208333 3.06875   ] [5.76346154 2.69038462] [5.006 3.418]\n",
      "Iteration 4:\n",
      "  Centroid 1: [6.80208333 3.06875   ]\n",
      "  Centroid 2: [5.76346154 2.69038462]\n",
      "  Centroid 3: [5.006 3.418]\n",
      "\n",
      "Updated centroids: [6.81276596 3.07446809] [5.77358491 2.69245283] [5.006 3.418]\n",
      "Iteration 5:\n",
      "  Centroid 1: [6.81276596 3.07446809]\n",
      "  Centroid 2: [5.77358491 2.69245283]\n",
      "  Centroid 3: [5.006 3.418]\n",
      "\n",
      "Updated centroids: [6.81276596 3.07446809] [5.77358491 2.69245283] [5.006 3.418]\n",
      "Iteration 6:\n",
      "  Centroid 1: [6.81276596 3.07446809]\n",
      "  Centroid 2: [5.77358491 2.69245283]\n",
      "  Centroid 3: [5.006 3.418]\n",
      "\n",
      "Centroids converged.\n",
      "Final centroids:\n",
      "Centroid 1: [6.81276596 3.07446809]\n",
      "Centroid 2: [5.77358491 2.69245283]\n",
      "Centroid 3: [5.006 3.418]\n"
     ]
    }
   ],
   "source": [
    "if __name__ == \"__main__\":\n",
    "    main()"
   ]
  }
 ],
 "metadata": {
  "kernelspec": {
   "display_name": "Python 3",
   "language": "python",
   "name": "python3"
  },
  "language_info": {
   "codemirror_mode": {
    "name": "ipython",
    "version": 3
   },
   "file_extension": ".py",
   "mimetype": "text/x-python",
   "name": "python",
   "nbconvert_exporter": "python",
   "pygments_lexer": "ipython3",
   "version": "3.11.9"
  }
 },
 "nbformat": 4,
 "nbformat_minor": 2
}
